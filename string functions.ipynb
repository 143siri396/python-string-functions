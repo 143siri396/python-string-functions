{
 "cells": [
  {
   "cell_type": "code",
   "execution_count": 1,
   "id": "40287275",
   "metadata": {},
   "outputs": [],
   "source": [
    "Class=\"Python Batch\""
   ]
  },
  {
   "cell_type": "code",
   "execution_count": 2,
   "id": "4fd27ed8",
   "metadata": {},
   "outputs": [
    {
     "data": {
      "text/plain": [
       "'python batch'"
      ]
     },
     "execution_count": 2,
     "metadata": {},
     "output_type": "execute_result"
    }
   ],
   "source": [
    "Class.lower()"
   ]
  },
  {
   "cell_type": "code",
   "execution_count": 3,
   "id": "2825c023",
   "metadata": {},
   "outputs": [
    {
     "data": {
      "text/plain": [
       "'PYTHON BATCH'"
      ]
     },
     "execution_count": 3,
     "metadata": {},
     "output_type": "execute_result"
    }
   ],
   "source": [
    "Class.upper()"
   ]
  },
  {
   "cell_type": "code",
   "execution_count": 4,
   "id": "6ce1534f",
   "metadata": {},
   "outputs": [],
   "source": [
    "arr=\"Python1\""
   ]
  },
  {
   "cell_type": "code",
   "execution_count": 5,
   "id": "73888a12",
   "metadata": {},
   "outputs": [],
   "source": [
    "_Class=\"python class\""
   ]
  },
  {
   "cell_type": "code",
   "execution_count": 6,
   "id": "ee72d55f",
   "metadata": {},
   "outputs": [
    {
     "data": {
      "text/plain": [
       "'Python Batch'"
      ]
     },
     "execution_count": 6,
     "metadata": {},
     "output_type": "execute_result"
    }
   ],
   "source": [
    "Class.title()"
   ]
  },
  {
   "cell_type": "code",
   "execution_count": 7,
   "id": "b0a7b7e4",
   "metadata": {},
   "outputs": [
    {
     "data": {
      "text/plain": [
       "'Python batch'"
      ]
     },
     "execution_count": 7,
     "metadata": {},
     "output_type": "execute_result"
    }
   ],
   "source": [
    "Class.capitalize()"
   ]
  },
  {
   "cell_type": "code",
   "execution_count": 8,
   "id": "648fbcc5",
   "metadata": {},
   "outputs": [
    {
     "data": {
      "text/plain": [
       "'pYTHON bATCH'"
      ]
     },
     "execution_count": 8,
     "metadata": {},
     "output_type": "execute_result"
    }
   ],
   "source": [
    "Class.swapcase()"
   ]
  },
  {
   "cell_type": "code",
   "execution_count": 9,
   "id": "f4fe3480",
   "metadata": {},
   "outputs": [
    {
     "data": {
      "text/plain": [
       "False"
      ]
     },
     "execution_count": 9,
     "metadata": {},
     "output_type": "execute_result"
    }
   ],
   "source": [
    "Class.isalpha()"
   ]
  },
  {
   "cell_type": "code",
   "execution_count": 10,
   "id": "1eb6924f",
   "metadata": {},
   "outputs": [
    {
     "data": {
      "text/plain": [
       "False"
      ]
     },
     "execution_count": 10,
     "metadata": {},
     "output_type": "execute_result"
    }
   ],
   "source": [
    "Class.isalnum()"
   ]
  },
  {
   "cell_type": "code",
   "execution_count": 11,
   "id": "a886c5b5",
   "metadata": {},
   "outputs": [
    {
     "data": {
      "text/plain": [
       "False"
      ]
     },
     "execution_count": 11,
     "metadata": {},
     "output_type": "execute_result"
    }
   ],
   "source": [
    "Class.isnumeric()"
   ]
  },
  {
   "cell_type": "code",
   "execution_count": 12,
   "id": "89cafaee",
   "metadata": {},
   "outputs": [
    {
     "data": {
      "text/plain": [
       "True"
      ]
     },
     "execution_count": 12,
     "metadata": {},
     "output_type": "execute_result"
    }
   ],
   "source": [
    "Class.startswith(\"P\")"
   ]
  },
  {
   "cell_type": "code",
   "execution_count": 14,
   "id": "f5685717",
   "metadata": {},
   "outputs": [],
   "source": [
    "a=\"Machine2024\""
   ]
  },
  {
   "cell_type": "code",
   "execution_count": 15,
   "id": "2d672c5c",
   "metadata": {},
   "outputs": [
    {
     "data": {
      "text/plain": [
       "False"
      ]
     },
     "execution_count": 15,
     "metadata": {},
     "output_type": "execute_result"
    }
   ],
   "source": [
    "a.isalpha()"
   ]
  },
  {
   "cell_type": "code",
   "execution_count": 16,
   "id": "c19e03cc",
   "metadata": {},
   "outputs": [
    {
     "data": {
      "text/plain": [
       "True"
      ]
     },
     "execution_count": 16,
     "metadata": {},
     "output_type": "execute_result"
    }
   ],
   "source": [
    "a.isalnum()"
   ]
  },
  {
   "cell_type": "code",
   "execution_count": 17,
   "id": "9a86f2f7",
   "metadata": {},
   "outputs": [
    {
     "data": {
      "text/plain": [
       "False"
      ]
     },
     "execution_count": 17,
     "metadata": {},
     "output_type": "execute_result"
    }
   ],
   "source": [
    "a.isnumeric()"
   ]
  },
  {
   "cell_type": "code",
   "execution_count": 18,
   "id": "60d7073d",
   "metadata": {},
   "outputs": [
    {
     "name": "stdout",
     "output_type": "stream",
     "text": [
      "   data science   \n"
     ]
    }
   ],
   "source": [
    "c=\"   data science   \"\n",
    "print(c)"
   ]
  },
  {
   "cell_type": "code",
   "execution_count": 19,
   "id": "852d179c",
   "metadata": {},
   "outputs": [
    {
     "data": {
      "text/plain": [
       "False"
      ]
     },
     "execution_count": 19,
     "metadata": {},
     "output_type": "execute_result"
    }
   ],
   "source": [
    "c.endswith(\"c\")"
   ]
  },
  {
   "cell_type": "code",
   "execution_count": 20,
   "id": "e52eecca",
   "metadata": {},
   "outputs": [
    {
     "data": {
      "text/plain": [
       "False"
      ]
     },
     "execution_count": 20,
     "metadata": {},
     "output_type": "execute_result"
    }
   ],
   "source": [
    "c.startswith(\"d\")"
   ]
  },
  {
   "cell_type": "code",
   "execution_count": 21,
   "id": "fb3f1a2c",
   "metadata": {},
   "outputs": [
    {
     "data": {
      "text/plain": [
       "['data', 'science']"
      ]
     },
     "execution_count": 21,
     "metadata": {},
     "output_type": "execute_result"
    }
   ],
   "source": [
    "c.split()"
   ]
  },
  {
   "cell_type": "code",
   "execution_count": 22,
   "id": "748fabcd",
   "metadata": {},
   "outputs": [],
   "source": [
    "a1=\"+91-64735435667345\""
   ]
  },
  {
   "cell_type": "code",
   "execution_count": 23,
   "id": "0078f32e",
   "metadata": {},
   "outputs": [
    {
     "data": {
      "text/plain": [
       "['+91-6473', '43', '66734', '']"
      ]
     },
     "execution_count": 23,
     "metadata": {},
     "output_type": "execute_result"
    }
   ],
   "source": [
    "a1.split(\"5\")"
   ]
  },
  {
   "cell_type": "code",
   "execution_count": 24,
   "id": "39a074be",
   "metadata": {},
   "outputs": [
    {
     "data": {
      "text/plain": [
       "['   d', 't', ' science   ']"
      ]
     },
     "execution_count": 24,
     "metadata": {},
     "output_type": "execute_result"
    }
   ],
   "source": [
    "c.split(\"a\")"
   ]
  },
  {
   "cell_type": "code",
   "execution_count": 25,
   "id": "e0c4673a",
   "metadata": {},
   "outputs": [
    {
     "name": "stdout",
     "output_type": "stream",
     "text": [
      "Data Science \n",
      " Machine Learning\n"
     ]
    },
    {
     "data": {
      "text/plain": [
       "<function str.splitlines(keepends=False)>"
      ]
     },
     "execution_count": 25,
     "metadata": {},
     "output_type": "execute_result"
    }
   ],
   "source": [
    "a2=\"Data Science \\n Machine Learning\"\n",
    "print(a2)\n",
    "a2.splitlines"
   ]
  },
  {
   "cell_type": "code",
   "execution_count": 26,
   "id": "581caf77",
   "metadata": {},
   "outputs": [
    {
     "data": {
      "text/plain": [
       "'data science'"
      ]
     },
     "execution_count": 26,
     "metadata": {},
     "output_type": "execute_result"
    }
   ],
   "source": [
    "c.strip()"
   ]
  },
  {
   "cell_type": "code",
   "execution_count": 27,
   "id": "fd4c8dec",
   "metadata": {},
   "outputs": [
    {
     "data": {
      "text/plain": [
       "'data science   '"
      ]
     },
     "execution_count": 27,
     "metadata": {},
     "output_type": "execute_result"
    }
   ],
   "source": [
    "c.lstrip()"
   ]
  },
  {
   "cell_type": "code",
   "execution_count": 28,
   "id": "00a2a7fa",
   "metadata": {},
   "outputs": [
    {
     "data": {
      "text/plain": [
       "'   data science'"
      ]
     },
     "execution_count": 28,
     "metadata": {},
     "output_type": "execute_result"
    }
   ],
   "source": [
    "c.rstrip()"
   ]
  },
  {
   "cell_type": "code",
   "execution_count": 31,
   "id": "a87004db",
   "metadata": {},
   "outputs": [
    {
     "data": {
      "text/plain": [
       "'*****data****'"
      ]
     },
     "execution_count": 31,
     "metadata": {},
     "output_type": "execute_result"
    }
   ],
   "source": [
    "a3=\"data\"\n",
    "a3.center(13,\"*\")"
   ]
  },
  {
   "cell_type": "code",
   "execution_count": 35,
   "id": "3b13ba04",
   "metadata": {},
   "outputs": [
    {
     "name": "stdout",
     "output_type": "stream",
     "text": [
      "******data\n"
     ]
    },
    {
     "data": {
      "text/plain": [
       "'data******'"
      ]
     },
     "execution_count": 35,
     "metadata": {},
     "output_type": "execute_result"
    }
   ],
   "source": [
    "print(a3.rjust(10,\"*\"))\n",
    "a3.ljust(10,\"*\")"
   ]
  },
  {
   "cell_type": "code",
   "execution_count": 36,
   "id": "67d9a33e",
   "metadata": {},
   "outputs": [
    {
     "data": {
      "text/plain": [
       "2"
      ]
     },
     "execution_count": 36,
     "metadata": {},
     "output_type": "execute_result"
    }
   ],
   "source": [
    "a3.index(\"t\")"
   ]
  },
  {
   "cell_type": "code",
   "execution_count": 37,
   "id": "f8355821",
   "metadata": {},
   "outputs": [
    {
     "data": {
      "text/plain": [
       "'adbdc'"
      ]
     },
     "execution_count": 37,
     "metadata": {},
     "output_type": "execute_result"
    }
   ],
   "source": [
    "\"d\".join(\"abc\")"
   ]
  },
  {
   "cell_type": "code",
   "execution_count": 38,
   "id": "56a1dfc2",
   "metadata": {},
   "outputs": [
    {
     "data": {
      "text/plain": [
       "'ddaadatdaada dasdacdaidaedandacdae'"
      ]
     },
     "execution_count": 38,
     "metadata": {},
     "output_type": "execute_result"
    }
   ],
   "source": [
    "\"da\".join(\"data science\")"
   ]
  },
  {
   "cell_type": "code",
   "execution_count": 39,
   "id": "bebad3a1",
   "metadata": {},
   "outputs": [
    {
     "data": {
      "text/plain": [
       "1"
      ]
     },
     "execution_count": 39,
     "metadata": {},
     "output_type": "execute_result"
    }
   ],
   "source": [
    "x=\"Data Science\"\n",
    "x.count(\"a\",3)"
   ]
  },
  {
   "cell_type": "code",
   "execution_count": 40,
   "id": "0e5fcbb6",
   "metadata": {},
   "outputs": [
    {
     "data": {
      "text/plain": [
       "'DataScience'"
      ]
     },
     "execution_count": 40,
     "metadata": {},
     "output_type": "execute_result"
    }
   ],
   "source": [
    "x1=\"Data\"\n",
    "y1=\"Science\"\n",
    "x1+y1"
   ]
  },
  {
   "cell_type": "code",
   "execution_count": 41,
   "id": "245046b3",
   "metadata": {},
   "outputs": [
    {
     "data": {
      "text/plain": [
       "'Data Science'"
      ]
     },
     "execution_count": 41,
     "metadata": {},
     "output_type": "execute_result"
    }
   ],
   "source": [
    "x1+\" \"+y1"
   ]
  },
  {
   "cell_type": "code",
   "execution_count": 42,
   "id": "d2cfc2e2",
   "metadata": {},
   "outputs": [
    {
     "data": {
      "text/plain": [
       "'Da'"
      ]
     },
     "execution_count": 42,
     "metadata": {},
     "output_type": "execute_result"
    }
   ],
   "source": [
    "x1[0:2]"
   ]
  }
 ],
 "metadata": {
  "kernelspec": {
   "display_name": "Python 3 (ipykernel)",
   "language": "python",
   "name": "python3"
  },
  "language_info": {
   "codemirror_mode": {
    "name": "ipython",
    "version": 3
   },
   "file_extension": ".py",
   "mimetype": "text/x-python",
   "name": "python",
   "nbconvert_exporter": "python",
   "pygments_lexer": "ipython3",
   "version": "3.11.5"
  }
 },
 "nbformat": 4,
 "nbformat_minor": 5
}
